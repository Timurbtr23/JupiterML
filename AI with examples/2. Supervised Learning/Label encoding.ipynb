{
 "cells": [
  {
   "cell_type": "code",
   "execution_count": 1,
   "id": "49a63088",
   "metadata": {},
   "outputs": [],
   "source": [
    "import numpy as np\n",
    "from sklearn import preprocessing"
   ]
  },
  {
   "cell_type": "code",
   "execution_count": 12,
   "id": "bfefd89f",
   "metadata": {},
   "outputs": [],
   "source": [
    "input_labels = ['red', 'black', 'red', 'green', 'black', 'yellow', 'white']"
   ]
  },
  {
   "cell_type": "code",
   "execution_count": 13,
   "id": "17ea282f",
   "metadata": {
    "collapsed": true
   },
   "outputs": [
    {
     "data": {
      "text/plain": [
       "LabelEncoder()"
      ]
     },
     "execution_count": 13,
     "metadata": {},
     "output_type": "execute_result"
    }
   ],
   "source": [
    "# Создание кодировщика и установление соответствия между метками и числами\n",
    "encoder = preprocessing.LabelEncoder()\n",
    "encoder.fit(input_labels)"
   ]
  },
  {
   "cell_type": "code",
   "execution_count": 14,
   "id": "05967d90",
   "metadata": {},
   "outputs": [
    {
     "name": "stdout",
     "output_type": "stream",
     "text": [
      "\n",
      "Label mapping:\n",
      "black --> 0\n",
      "green --> 1\n",
      "red --> 2\n",
      "white --> 3\n",
      "yellow --> 4\n"
     ]
    }
   ],
   "source": [
    "# Вывод отображения\n",
    "print(\"\\nLabel mapping:\")\n",
    "for i, item in enumerate(encoder.classes_):\n",
    "    print(item, '-->', i)"
   ]
  },
  {
   "cell_type": "code",
   "execution_count": 15,
   "id": "f11f1f35",
   "metadata": {
    "scrolled": false
   },
   "outputs": [
    {
     "name": "stdout",
     "output_type": "stream",
     "text": [
      "\n",
      "Labels = ['green', 'red', 'black']\n",
      "Encoded values = [1, 2, 0]\n"
     ]
    }
   ],
   "source": [
    "# Преобразуем набор случайно упорядоченных меток, чтобы проверить работу кодировщика\n",
    "test_labels = ['green', 'red', 'black']\n",
    "encoded_values = encoder.transform(test_labels)\n",
    "print(\"\\nLabels =\", test_labels )\n",
    "print(\"Encoded values =\", list(encoded_values))"
   ]
  },
  {
   "cell_type": "code",
   "execution_count": 18,
   "id": "409f14f5",
   "metadata": {},
   "outputs": [
    {
     "name": "stdout",
     "output_type": "stream",
     "text": [
      "\n",
      "Encoded_values = [3, 0, 4, 1]\n",
      "Decoded labels = ['white', 'black', 'yellow', 'green']\n"
     ]
    }
   ],
   "source": [
    "# Декодирование набора чисел с п омощью декодера\n",
    "encoded_values = [3, 0, 4, 1]\n",
    "decoded_list = encoder.inverse_transform(encoded_values)\n",
    "print(\"\\nEncoded_values =\", encoded_values)\n",
    "print(\"Decoded labels =\", list(decoded_list))"
   ]
  }
 ],
 "metadata": {
  "kernelspec": {
   "display_name": "Python 3 (ipykernel)",
   "language": "python",
   "name": "python3"
  },
  "language_info": {
   "codemirror_mode": {
    "name": "ipython",
    "version": 3
   },
   "file_extension": ".py",
   "mimetype": "text/x-python",
   "name": "python",
   "nbconvert_exporter": "python",
   "pygments_lexer": "ipython3",
   "version": "3.9.12"
  }
 },
 "nbformat": 4,
 "nbformat_minor": 5
}
