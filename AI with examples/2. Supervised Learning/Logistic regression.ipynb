{
 "cells": [
  {
   "cell_type": "code",
   "execution_count": 2,
   "id": "1601c774",
   "metadata": {},
   "outputs": [],
   "source": [
    "import numpy as np\n",
    "from sklearn import linear_model\n",
    "import matplotlib.pyplot as plt\n",
    "\n",
    "from utilities import visualize_classifier"
   ]
  },
  {
   "cell_type": "code",
   "execution_count": 15,
   "id": "acde5f65",
   "metadata": {},
   "outputs": [],
   "source": [
    "# Определим образец входных данных с помощью двумерных векторов и соответсrвующих меток.\n",
    "X = np.array([[3.1, 7.2], [4, 6.7], [2.9, 8], [5.1, 4.5],\n",
    "              [6, 5], [5.6, 5], [3.3, 0.4], [3.9, 0.9], [2.8, 1],\n",
    "              [0.5, 3.4], [1, 4], [0.6, 4.9]])\n",
    "y = np.array( [0, 0, 0, 1, 1, 1, 2, 2, 2, 3, 3, 3])"
   ]
  },
  {
   "cell_type": "code",
   "execution_count": 28,
   "id": "8739705f",
   "metadata": {},
   "outputs": [],
   "source": [
    "# Создание логистического классификатора\n",
    "classifier = linear_model.LogisticRegression(solver='liblinear', C=100)"
   ]
  },
  {
   "cell_type": "code",
   "execution_count": 30,
   "id": "9870300a",
   "metadata": {},
   "outputs": [
    {
     "data": {
      "text/plain": [
       "LogisticRegression(C=100, solver='liblinear')"
      ]
     },
     "execution_count": 30,
     "metadata": {},
     "output_type": "execute_result"
    }
   ],
   "source": [
    "# Тренировка классификатора\n",
    "classifier.fit(X, y)"
   ]
  },
  {
   "cell_type": "code",
   "execution_count": 31,
   "id": "5b25e1e7",
   "metadata": {},
   "outputs": [
    {
     "data": {
      "image/png": "[encoded data removed]",
      "text/plain": [
       "<Figure size 432x288 with 1 Axes>"
      ]
     },
     "metadata": {
      "needs_background": "light"
     },
     "output_type": "display_data"
    }
   ],
   "source": [
    "# Визуализируем результаты работы классификатора, отследив границы классов\n",
    "visualize_classifier(classifier, X, y)"
   ]
  },
  {
   "cell_type": "code",
   "execution_count": null,
   "id": "37d78d52",
   "metadata": {},
   "outputs": [],
   "source": []
  }
 ],
 "metadata": {
  "kernelspec": {
   "display_name": "Python 3 (ipykernel)",
   "language": "python",
   "name": "python3"
  },
  "language_info": {
   "codemirror_mode": {
    "name": "ipython",
    "version": 3
   },
   "file_extension": ".py",
   "mimetype": "text/x-python",
   "name": "python",
   "nbconvert_exporter": "python",
   "pygments_lexer": "ipython3",
   "version": "3.9.12"
  }
 },
 "nbformat": 4,
 "nbformat_minor": 5
}
